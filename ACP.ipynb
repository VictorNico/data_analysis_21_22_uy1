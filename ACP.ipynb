{
 "cells": [
  {
   "cell_type": "markdown",
   "id": "541d9d27-5a10-42a6-a9fa-51762de298e6",
   "metadata": {
    "tags": []
   },
   "source": [
    "# ANALYSE À COMPOSANTE PRINCIPALE (ACP)"
   ]
  },
  {
   "cell_type": "markdown",
   "id": "3c793f3d-7646-44b5-b10a-9c86bf72b35a",
   "metadata": {},
   "source": [
    "Une étude gastronomique a conduit à apprécier le service, la qualité et le prix de quatre restaurants. Pour cela, un expert a noté ces restaurants avec des notes allant de -3 à 3.\n",
    "Les résultats sont les suivantes"
   ]
  },
  {
   "cell_type": "markdown",
   "id": "15802d25-795e-45f8-9499-7601be967af6",
   "metadata": {},
   "source": [
    "|Restaurant|Service|Qualité|Prix|\n",
    "|:--------:|:-----:|:-----:|:--:|\n",
    "|R1|-2|3|-1|\n",
    "|R2|-1|1|0|\n",
    "|R3|2|-1|-1|\n",
    "|R4|1|-3|2|"
   ]
  },
  {
   "cell_type": "code",
   "execution_count": 16,
   "id": "dff96e2d-1865-4264-8224-fc25a7c1f3bf",
   "metadata": {},
   "outputs": [],
   "source": [
    "# importer les methodes du modules sympy\n",
    "from sympy import *"
   ]
  },
  {
   "cell_type": "code",
   "execution_count": 17,
   "id": "de5a7700-da68-4632-90a3-c239b40e7091",
   "metadata": {},
   "outputs": [],
   "source": [
    "# for plotting\n",
    "from mpl_toolkits.mplot3d import Axes3D\n",
    "from matplotlib import cm\n",
    "from matplotlib.colors import LogNorm\n",
    "import matplotlib.pyplot as plt"
   ]
  },
  {
   "cell_type": "code",
   "execution_count": 18,
   "id": "3e050347-3105-4c1a-ac1f-8bb98426c400",
   "metadata": {},
   "outputs": [
    {
     "data": {
      "text/latex": [
       "$\\displaystyle \\left[\\begin{matrix}-2 & 3 & -1\\\\-1 & 1 & 0\\\\2 & -1 & -1\\\\1 & -3 & 2\\end{matrix}\\right]$"
      ],
      "text/plain": [
       "Matrix([\n",
       "[-2,  3, -1],\n",
       "[-1,  1,  0],\n",
       "[ 2, -1, -1],\n",
       "[ 1, -3,  2]])"
      ]
     },
     "execution_count": 18,
     "metadata": {},
     "output_type": "execute_result"
    }
   ],
   "source": [
    "# convertir en matrice\n",
    "X = Matrix([[-2,3,-1],[-1,1,0],[2,-1,-1],[1,-3,2]])\n",
    "# afficher la matrice\n",
    "X"
   ]
  },
  {
   "cell_type": "markdown",
   "id": "da3251a3-9d2e-4de3-abf7-659b97d1b55c",
   "metadata": {},
   "source": [
    "La matrice des covariances est \n",
    "$$\n",
    "\\mathbf{V}\n",
    "=\n",
    "\\begin{bmatrix}\n",
    "\\frac{5}{2} & -3 & \\frac{1}{2} \\\\\n",
    "-3 & 5 & -2 \\\\\n",
    "\\frac{1}{2} & -2 & \\frac{3}{2} \n",
    "\\end{bmatrix}\n",
    "$$"
   ]
  },
  {
   "cell_type": "code",
   "execution_count": 19,
   "id": "de2be8ca-272c-44fb-8aea-883b2672390f",
   "metadata": {},
   "outputs": [
    {
     "data": {
      "text/latex": [
       "$\\displaystyle \\left[\\begin{matrix}2.5 & -3 & 0.5\\\\-3 & 5 & -2\\\\0.5 & -2 & 1.5\\end{matrix}\\right]$"
      ],
      "text/plain": [
       "Matrix([\n",
       "[2.5, -3, 0.5],\n",
       "[ -3,  5,  -2],\n",
       "[0.5, -2, 1.5]])"
      ]
     },
     "execution_count": 19,
     "metadata": {},
     "output_type": "execute_result"
    }
   ],
   "source": [
    "# convertir en matrice\n",
    "V = Matrix([[5/2,-3,1/2],[-3,5,-2],[1/2,-2,3/2]])\n",
    "# afficher la matrice\n",
    "V"
   ]
  },
  {
   "cell_type": "markdown",
   "id": "77c9934f-83f6-48dc-bf48-7a353bae11c7",
   "metadata": {},
   "source": [
    "et celles des corrélations (aux erreurs d'arrondi près)\n",
    "$$\n",
    "\\mathbf{R}\n",
    "=\n",
    "\\begin{bmatrix}\n",
    "1 & -0.85 & 0.26 \\\\\n",
    "-0.85 & 1 & -0.73 \\\\\n",
    "0.26 & -0.73 & 1 \n",
    "\\end{bmatrix}\n",
    "$$"
   ]
  },
  {
   "cell_type": "code",
   "execution_count": 20,
   "id": "ef155d65-857f-405b-8cd4-d6d028e68181",
   "metadata": {},
   "outputs": [
    {
     "data": {
      "text/latex": [
       "$\\displaystyle \\left[\\begin{matrix}1 & -0.85 & 0.26\\\\-0.85 & 1 & -0.73\\\\0.26 & -0.73 & 1\\end{matrix}\\right]$"
      ],
      "text/plain": [
       "Matrix([\n",
       "[    1, -0.85,  0.26],\n",
       "[-0.85,     1, -0.73],\n",
       "[ 0.26, -0.73,     1]])"
      ]
     },
     "execution_count": 20,
     "metadata": {},
     "output_type": "execute_result"
    }
   ],
   "source": [
    "# convertir en matrice\n",
    "R = Matrix([[1,-0.85,0.26],[-0.85,1,-0.73],[0.26,-0.73,1]])\n",
    "# afficher la matrice\n",
    "R"
   ]
  },
  {
   "cell_type": "markdown",
   "id": "5cb3cdaf-7670-4fd4-829d-82064ce5955c",
   "metadata": {},
   "source": [
    "Pour l'étude, on effectuera une ACP centrée avec des poids équirépartis."
   ]
  },
  {
   "cell_type": "markdown",
   "id": "1f132ed5-e89b-4462-8504-8e3450b6474b",
   "metadata": {},
   "source": [
    "1. Etude des valeurs propres\n",
    "\n",
    "    a. Vérifions simplement que V admet une valeur propre $\\lambda_3$ = 0"
   ]
  },
  {
   "cell_type": "code",
   "execution_count": 21,
   "id": "91195255-ae13-4ea7-9b42-32279412f07a",
   "metadata": {},
   "outputs": [
    {
     "name": "stdout",
     "output_type": "stream",
     "text": [
      "L3 = 0 est belle et bien une valeur propre de V car det(V-L3I) = 0\n"
     ]
    }
   ],
   "source": [
    "# il suffit de monter que le déterminant polynôme caractéristique rattaché a V est égale á 0\n",
    "L3 = 0\n",
    "P = V - L3*eye(V.rows)\n",
    "print(\"L3 = {} est belle et bien une valeur propre de V car det(V-L3I) = {}\".format(L3,P.det())) if P.det() == 0 else print(\"L3 = {} n'est pas une valeur propre de V car det(V-L3I) = {}\".format(L3,P.det()))\n"
   ]
  },
  {
   "cell_type": "markdown",
   "id": "fee0e452-cf6f-4da7-96ae-58b3be6b081c",
   "metadata": {},
   "source": [
    "   b. on nous donne $\\lambda_1$ = 30.5/4, déduisons $\\lambda_2$"
   ]
  },
  {
   "cell_type": "markdown",
   "id": "a6ac1625-067a-4a1f-9201-8f3a338e40dc",
   "metadata": {},
   "source": [
    "$$\\mathbf{Tr(V)} = \\Sigma_{i=1}^k \\lambda_i$$"
   ]
  },
  {
   "cell_type": "code",
   "execution_count": 22,
   "id": "ce5f9e51-4225-48cf-9812-06c8f13dff6e",
   "metadata": {},
   "outputs": [
    {
     "data": {
      "text/latex": [
       "$\\displaystyle \\frac{11}{8}$"
      ],
      "text/plain": [
       "11/8"
      ]
     },
     "execution_count": 22,
     "metadata": {},
     "output_type": "execute_result"
    }
   ],
   "source": [
    "# nous savons que la trace de la matrice V est égale à somme des valeurs propres de V.\n",
    "# de plus, la trace d'une matrice est la somme des éléments de la diagonale\n",
    "# on a donc\n",
    "L1 = 30.5/4\n",
    "L2 = (V.trace())-(L3+L1)\n",
    "Rational(L2)"
   ]
  },
  {
   "cell_type": "markdown",
   "id": "0c7c6f18-cf33-401b-8855-1604d9d557ed",
   "metadata": {},
   "source": [
    "Supposons que tous ses indications ne nous étaient pas données, nous aurons toujours ca même pu obtenir ses différantes valeurs propres comme suit: "
   ]
  },
  {
   "cell_type": "code",
   "execution_count": 23,
   "id": "10d16ec8-b07b-4505-8684-a2ced5e27579",
   "metadata": {},
   "outputs": [
    {
     "name": "stdout",
     "output_type": "stream",
     "text": [
      "973/128\n",
      "717/512\n",
      "0\n"
     ]
    },
    {
     "data": {
      "text/plain": [
       "[None, None, None]"
      ]
     },
     "execution_count": 23,
     "metadata": {},
     "output_type": "execute_result"
    }
   ],
   "source": [
    "L = V.eigenvals()\n",
    "[print(Rational(d.round(1))) for d in L ]"
   ]
  },
  {
   "cell_type": "code",
   "execution_count": 24,
   "id": "d9d0d8ce",
   "metadata": {},
   "outputs": [
    {
     "data": {
      "text/plain": [
       "[(7.62249899919920,\n",
       "  1,\n",
       "  [Matrix([\n",
       "   [ 0.503258637711058],\n",
       "   [-0.808448910533936],\n",
       "   [ 0.305190272822878]])]),\n",
       " (1.37750100080080,\n",
       "  1,\n",
       "  [Matrix([\n",
       "   [-0.642959882291171],\n",
       "   [ -0.11435482378614],\n",
       "   [ 0.757314706077311]])]),\n",
       " (-2.73691691777117e-64,\n",
       "  1,\n",
       "  [Matrix([\n",
       "   [0.577350269189626],\n",
       "   [0.577350269189626],\n",
       "   [0.577350269189626]])])]"
      ]
     },
     "execution_count": 24,
     "metadata": {},
     "output_type": "execute_result"
    }
   ],
   "source": [
    "L = V.eigenvects()\n",
    "[d for d in L ]"
   ]
  },
  {
   "cell_type": "markdown",
   "id": "ac76e3e0-ea5e-4424-af2b-612f2eabd31c",
   "metadata": {},
   "source": [
    "c. calculons les pourcentages d'inertie et disons quel est la dimension à retenir."
   ]
  },
  {
   "cell_type": "code",
   "execution_count": 25,
   "id": "b676dcbc-3176-4fe1-af56-e0ab5a946c14",
   "metadata": {},
   "outputs": [
    {
     "name": "stdout",
     "output_type": "stream",
     "text": [
      "Le taux de conservation ou d'inertie de rang 1 est 0.85 \n",
      "Le taux de conservation ou d'inertie de rang 2 est 1.00000000000000 \n",
      "Le taux de conservation ou d'inertie de rang 3 est 1.00000000000000 \n"
     ]
    }
   ],
   "source": [
    "# le pourcentage d'inertie ou encore pourcentage de conservation \n",
    "# est l'apport d'une valeur propres dans la reduction de la dimensionalité\n",
    "LL = [L1,L2,L3]\n",
    "for i in range(len(LL)):\n",
    "    s=0\n",
    "    for j in range(i+1):\n",
    "        s += LL[j]\n",
    "    print(\"Le taux de conservation ou d'inertie de rang {} est {} \".format(i+1,(s/V.trace()).round(2)))"
   ]
  },
  {
   "cell_type": "markdown",
   "id": "85bf8ecc-7ee1-4e58-823e-a63ea5faa1d0",
   "metadata": {},
   "source": [
    "Nous remarquons qu'avec juste une dimension 2, nous obtenons un taux de conservation de 1 $\t\\equiv$ 100%. \n",
    "Donc nous retiendrons alors 2 comme sous dimension dans laquelle nous allons projecter nos données."
   ]
  },
  {
   "cell_type": "markdown",
   "id": "657198a8-3448-4dfb-958b-56562fc1968c",
   "metadata": {},
   "source": [
    "2. \n",
    "\n",
    "    a. on nous donne, aux erreurs d'arrondi près, \n",
    "    "
   ]
  },
  {
   "cell_type": "markdown",
   "id": "a106414b-ffd0-4174-ac98-493d895d940b",
   "metadata": {},
   "source": [
    "$$\n",
    "\\mathbf{v_1}\n",
    "=\n",
    "\\begin{bmatrix}\n",
    "0.5 \\\\\n",
    "-0.8 \\\\\n",
    "0.3 \n",
    "\\end{bmatrix}\n",
    "$$\n"
   ]
  },
  {
   "cell_type": "code",
   "execution_count": 26,
   "id": "3d0342ea-af41-46c9-a576-d46bdc83aef2",
   "metadata": {},
   "outputs": [
    {
     "data": {
      "text/latex": [
       "$\\displaystyle \\left[\\begin{matrix}0.5\\\\-0.8\\\\0.3\\end{matrix}\\right]$"
      ],
      "text/plain": [
       "Matrix([\n",
       "[ 0.5],\n",
       "[-0.8],\n",
       "[ 0.3]])"
      ]
     },
     "execution_count": 26,
     "metadata": {},
     "output_type": "execute_result"
    }
   ],
   "source": [
    "# convertir en matrice\n",
    "V1 = Matrix([0.5,-0.8,0.3])\n",
    "# afficher la matrice\n",
    "V1"
   ]
  },
  {
   "cell_type": "markdown",
   "id": "6151ffed-05d0-4ec3-a5f0-202a0f764005",
   "metadata": {},
   "source": [
    "\n",
    "$$\n",
    "\\mathbf{v_2}\n",
    "=\n",
    "\\begin{bmatrix}\n",
    "0.65 \\\\\n",
    "0.11 \\\\\n",
    "-0.75 \n",
    "\\end{bmatrix}\n",
    "$$"
   ]
  },
  {
   "cell_type": "code",
   "execution_count": 27,
   "id": "7aa4b4ff-5fe2-4484-ba3e-79d456047b18",
   "metadata": {},
   "outputs": [
    {
     "data": {
      "text/latex": [
       "$\\displaystyle \\left[\\begin{matrix}0.65\\\\0.11\\\\-0.75\\end{matrix}\\right]$"
      ],
      "text/plain": [
       "Matrix([\n",
       "[ 0.65],\n",
       "[ 0.11],\n",
       "[-0.75]])"
      ]
     },
     "execution_count": 27,
     "metadata": {},
     "output_type": "execute_result"
    }
   ],
   "source": [
    "# convertir en matrice\n",
    "V2 = Matrix([0.65,0.11,-0.75])\n",
    "# afficher la matrice\n",
    "V2"
   ]
  },
  {
   "cell_type": "markdown",
   "id": "62bcc887-5cbc-4c20-b31a-8d5a6074994c",
   "metadata": {},
   "source": [
    "calculons les composantes principales."
   ]
  },
  {
   "cell_type": "markdown",
   "id": "1374e06c-d85d-43c4-8fe5-5e8415f3e4c3",
   "metadata": {},
   "source": [
    "du traitement précedant, nous avons retenu deux dimension pour projecter notre jeu de données donc, deux composantes w1,w2."
   ]
  },
  {
   "cell_type": "code",
   "execution_count": 28,
   "id": "dac2c479-969b-4908-a8ca-b4065db49a68",
   "metadata": {},
   "outputs": [
    {
     "data": {
      "text/latex": [
       "$\\displaystyle \\left[\\begin{matrix}-3.7\\\\-1.3\\\\1.5\\\\3.5\\end{matrix}\\right]$"
      ],
      "text/plain": [
       "Matrix([\n",
       "[-3.7],\n",
       "[-1.3],\n",
       "[ 1.5],\n",
       "[ 3.5]])"
      ]
     },
     "execution_count": 28,
     "metadata": {},
     "output_type": "execute_result"
    }
   ],
   "source": [
    "W1 = X*V1\n",
    "W1"
   ]
  },
  {
   "cell_type": "code",
   "execution_count": 29,
   "id": "b49e173c-dfa6-4c3a-a014-26351fe84b49",
   "metadata": {},
   "outputs": [
    {
     "data": {
      "text/latex": [
       "$\\displaystyle \\left[\\begin{matrix}-0.22\\\\-0.54\\\\1.94\\\\-1.18\\end{matrix}\\right]$"
      ],
      "text/plain": [
       "Matrix([\n",
       "[-0.22],\n",
       "[-0.54],\n",
       "[ 1.94],\n",
       "[-1.18]])"
      ]
     },
     "execution_count": 29,
     "metadata": {},
     "output_type": "execute_result"
    }
   ],
   "source": [
    "W2 = X*V2\n",
    "W2"
   ]
  },
  {
   "cell_type": "code",
   "execution_count": 30,
   "id": "6be260e6-109b-424f-be50-be040c03fedc",
   "metadata": {},
   "outputs": [
    {
     "data": {
      "text/latex": [
       "$\\displaystyle \\left[\\begin{matrix}-3.7 & -0.22\\\\-1.3 & -0.54\\\\1.5 & 1.94\\\\3.5 & -1.18\\end{matrix}\\right]$"
      ],
      "text/plain": [
       "Matrix([\n",
       "[-3.7, -0.22],\n",
       "[-1.3, -0.54],\n",
       "[ 1.5,  1.94],\n",
       "[ 3.5, -1.18]])"
      ]
     },
     "execution_count": 30,
     "metadata": {},
     "output_type": "execute_result"
    }
   ],
   "source": [
    "# soit donc W = (W1,W2)\n",
    "W = Matrix([list(W1),list(W2)]).transpose()\n",
    "W"
   ]
  },
  {
   "cell_type": "markdown",
   "id": "cd9f9eb5-1ff3-4cc0-a4a7-e59db6c983a8",
   "metadata": {},
   "source": [
    "b. représentons les individus dans le plan principal (1,2)"
   ]
  },
  {
   "cell_type": "code",
   "execution_count": 31,
   "id": "28dd36b8-9c50-42eb-9717-0b17d7d85f60",
   "metadata": {},
   "outputs": [
    {
     "data": {
      "text/plain": [
       "<matplotlib.lines.Line2D at 0x115e15e20>"
      ]
     },
     "execution_count": 31,
     "metadata": {},
     "output_type": "execute_result"
    },
    {
     "data": {
      "image/png": "[encoded data removed]",
      "text/plain": [
       "<Figure size 432x288 with 1 Axes>"
      ]
     },
     "metadata": {
      "needs_background": "light"
     },
     "output_type": "display_data"
    }
   ],
   "source": [
    "plt.scatter(list(W1),list(W2))\n",
    "plt.xlim(-5, 5)\n",
    "plt.ylim(-5, 5)\n",
    "plt.grid(True, which='both')\n",
    "plt.axhline(y=0, color='black')\n",
    "plt.axvline(x=0, color='black')\n"
   ]
  },
  {
   "cell_type": "markdown",
   "id": "6f65ee68-9567-40b4-8175-4cd90974a6c1",
   "metadata": {},
   "source": [
    "b. déterminons les corrélations entre les variables et les composants"
   ]
  },
  {
   "cell_type": "code",
   "execution_count": 32,
   "id": "af56ec9e",
   "metadata": {},
   "outputs": [
    {
     "data": {
      "text/latex": [
       "$\\displaystyle \\left[\\begin{matrix}0\\\\0\\\\0\\end{matrix}\\right]$"
      ],
      "text/plain": [
       "Matrix([\n",
       "[0],\n",
       "[0],\n",
       "[0]])"
      ]
     },
     "execution_count": 32,
     "metadata": {},
     "output_type": "execute_result"
    }
   ],
   "source": [
    "# déterminons l'individu moyen des variables\n",
    "M = []\n",
    "for i in range(X.cols):\n",
    "    sum = 0\n",
    "    for j in range(X.rows):\n",
    "        sum += (X.col(i).row(j))[0]\n",
    "    M.append(sum)\n",
    "MX = Matrix(M)\n",
    "MX\n"
   ]
  },
  {
   "cell_type": "code",
   "execution_count": 33,
   "id": "6c87fe0c",
   "metadata": {},
   "outputs": [
    {
     "data": {
      "text/latex": [
       "$\\displaystyle \\left[\\begin{matrix}-2 & -1 & 2 & 1\\\\3 & 1 & -1 & -3\\\\-1 & 0 & -1 & 2\\end{matrix}\\right]$"
      ],
      "text/plain": [
       "Matrix([\n",
       "[-2, -1,  2,  1],\n",
       "[ 3,  1, -1, -3],\n",
       "[-1,  0, -1,  2]])"
      ]
     },
     "execution_count": 33,
     "metadata": {},
     "output_type": "execute_result"
    }
   ],
   "source": [
    "# matrix centrée\n",
    "sigma = []\n",
    "for i in range(X.cols):\n",
    "    s1 = []\n",
    "    for j in range(X.rows):\n",
    "        s1.append(X.col(i).row(j)-MX.col(0).row(i))\n",
    "    sigma.append(s1)\n",
    "\n",
    "sigma = Matrix(sigma)\n",
    "sigma"
   ]
  },
  {
   "cell_type": "code",
   "execution_count": 34,
   "id": "b239b99a",
   "metadata": {},
   "outputs": [
    {
     "data": {
      "text/latex": [
       "$\\displaystyle \\left[\\begin{matrix}0\\\\0\\end{matrix}\\right]$"
      ],
      "text/plain": [
       "Matrix([\n",
       "[0],\n",
       "[0]])"
      ]
     },
     "execution_count": 34,
     "metadata": {},
     "output_type": "execute_result"
    }
   ],
   "source": [
    "# déterminons l'individu moyen des composants\n",
    "M = []\n",
    "for i in range(W.cols):\n",
    "    sum = 0\n",
    "    for j in range(W.rows):\n",
    "        sum += (W.col(i).row(j))[0]\n",
    "    M.append(sum.round(0))\n",
    "MW = Matrix(M)\n",
    "MW"
   ]
  },
  {
   "cell_type": "code",
   "execution_count": 35,
   "id": "fb501f55",
   "metadata": {},
   "outputs": [
    {
     "data": {
      "text/latex": [
       "$\\displaystyle \\left[\\begin{matrix}1.58\\\\2.24\\\\1.22\\end{matrix}\\right]$"
      ],
      "text/plain": [
       "Matrix([\n",
       "[1.58],\n",
       "[2.24],\n",
       "[1.22]])"
      ]
     },
     "execution_count": 35,
     "metadata": {},
     "output_type": "execute_result"
    }
   ],
   "source": [
    "# déterminons l'individu ecart-type des variables\n",
    "M = []\n",
    "for i in range(X.cols):\n",
    "    item = []\n",
    "    sum = 0\n",
    "    for j in range(X.rows):\n",
    "        item.append(\n",
    "            (((X.col(i).row(j))[0])**2)/X.rows\n",
    "        )\n",
    "    for j in range(X.rows):\n",
    "        sum += item[j]\n",
    "    sum = sqrt(sum)\n",
    "    M.append(sum.round(2))\n",
    "EX = Matrix(M)\n",
    "EX\n"
   ]
  },
  {
   "cell_type": "code",
   "execution_count": 45,
   "id": "3519c775",
   "metadata": {},
   "outputs": [
    {
     "name": "stdout",
     "output_type": "stream",
     "text": [
      "-2\n",
      "[1.58]\n"
     ]
    },
    {
     "ename": "TypeError",
     "evalue": "unsupported operand type(s) for /: 'Integer' and 'list'",
     "output_type": "error",
     "traceback": [
      "\u001b[0;31m---------------------------------------------------------------------------\u001b[0m",
      "\u001b[0;31mTypeError\u001b[0m                                 Traceback (most recent call last)",
      "\u001b[0;32m/var/folders/54/9zy0h1lx30352ghjszc5g2h80000gn/T/ipykernel_26401/3929171925.py\u001b[0m in \u001b[0;36m<module>\u001b[0;34m\u001b[0m\n\u001b[1;32m      6\u001b[0m         \u001b[0mprint\u001b[0m\u001b[0;34m(\u001b[0m\u001b[0mlist\u001b[0m\u001b[0;34m(\u001b[0m\u001b[0msigma\u001b[0m\u001b[0;34m.\u001b[0m\u001b[0mcol\u001b[0m\u001b[0;34m(\u001b[0m\u001b[0mi\u001b[0m\u001b[0;34m)\u001b[0m\u001b[0;34m.\u001b[0m\u001b[0mrow\u001b[0m\u001b[0;34m(\u001b[0m\u001b[0mj\u001b[0m\u001b[0;34m)\u001b[0m\u001b[0;34m)\u001b[0m\u001b[0;34m[\u001b[0m\u001b[0;36m0\u001b[0m\u001b[0;34m]\u001b[0m\u001b[0;34m)\u001b[0m\u001b[0;34m\u001b[0m\u001b[0;34m\u001b[0m\u001b[0m\n\u001b[1;32m      7\u001b[0m         \u001b[0mprint\u001b[0m\u001b[0;34m(\u001b[0m\u001b[0mlist\u001b[0m\u001b[0;34m(\u001b[0m\u001b[0mEX\u001b[0m\u001b[0;34m.\u001b[0m\u001b[0mcol\u001b[0m\u001b[0;34m(\u001b[0m\u001b[0;36m0\u001b[0m\u001b[0;34m)\u001b[0m\u001b[0;34m.\u001b[0m\u001b[0mrow\u001b[0m\u001b[0;34m(\u001b[0m\u001b[0mi\u001b[0m\u001b[0;34m)\u001b[0m\u001b[0;34m)\u001b[0m\u001b[0;34m)\u001b[0m\u001b[0;34m\u001b[0m\u001b[0;34m\u001b[0m\u001b[0m\n\u001b[0;32m----> 8\u001b[0;31m         \u001b[0ms1\u001b[0m\u001b[0;34m.\u001b[0m\u001b[0mappend\u001b[0m\u001b[0;34m(\u001b[0m\u001b[0mlist\u001b[0m\u001b[0;34m(\u001b[0m\u001b[0msigma\u001b[0m\u001b[0;34m.\u001b[0m\u001b[0mcol\u001b[0m\u001b[0;34m(\u001b[0m\u001b[0mi\u001b[0m\u001b[0;34m)\u001b[0m\u001b[0;34m.\u001b[0m\u001b[0mrow\u001b[0m\u001b[0;34m(\u001b[0m\u001b[0mj\u001b[0m\u001b[0;34m)\u001b[0m\u001b[0;34m)\u001b[0m\u001b[0;34m[\u001b[0m\u001b[0;36m0\u001b[0m\u001b[0;34m]\u001b[0m \u001b[0;34m/\u001b[0m  \u001b[0mlist\u001b[0m\u001b[0;34m(\u001b[0m\u001b[0mEX\u001b[0m\u001b[0;34m.\u001b[0m\u001b[0mcol\u001b[0m\u001b[0;34m(\u001b[0m\u001b[0;36m0\u001b[0m\u001b[0;34m)\u001b[0m\u001b[0;34m.\u001b[0m\u001b[0mrow\u001b[0m\u001b[0;34m(\u001b[0m\u001b[0mi\u001b[0m\u001b[0;34m)\u001b[0m\u001b[0;34m)\u001b[0m\u001b[0;34m)\u001b[0m\u001b[0;34m\u001b[0m\u001b[0;34m\u001b[0m\u001b[0m\n\u001b[0m\u001b[1;32m      9\u001b[0m     \u001b[0mgamma\u001b[0m\u001b[0;34m.\u001b[0m\u001b[0mappend\u001b[0m\u001b[0;34m(\u001b[0m\u001b[0ms1\u001b[0m\u001b[0;34m)\u001b[0m\u001b[0;34m\u001b[0m\u001b[0;34m\u001b[0m\u001b[0m\n\u001b[1;32m     10\u001b[0m \u001b[0;34m\u001b[0m\u001b[0m\n",
      "\u001b[0;31mTypeError\u001b[0m: unsupported operand type(s) for /: 'Integer' and 'list'"
     ]
    }
   ],
   "source": [
    "# matrix centrée reduit\n",
    "gamma = []\n",
    "for i in range(X.cols):\n",
    "    s1 = []\n",
    "    for j in range(X.rows):\n",
    "        print(list(sigma.col(i).row(j))[0])\n",
    "        print(list(EX.col(0).row(i)))\n",
    "        s1.append(list(sigma.col(i).row(j))[0] /  list(EX.col(0).row(i)))\n",
    "    gamma.append(s1)\n",
    "\n",
    "gamma = Matrix(gamma)\n",
    "gamma"
   ]
  },
  {
   "cell_type": "markdown",
   "id": "7f93c0a5",
   "metadata": {},
   "source": []
  },
  {
   "cell_type": "code",
   "execution_count": 36,
   "id": "5a6ca8fb",
   "metadata": {},
   "outputs": [
    {
     "data": {
      "text/latex": [
       "$\\displaystyle \\left[\\begin{matrix}2.73\\\\1.17\\end{matrix}\\right]$"
      ],
      "text/plain": [
       "Matrix([\n",
       "[2.73],\n",
       "[1.17]])"
      ]
     },
     "execution_count": 36,
     "metadata": {},
     "output_type": "execute_result"
    }
   ],
   "source": [
    "# déterminons l'individu ecart-type des composantes\n",
    "M = []\n",
    "for i in range(W.cols):\n",
    "    item = []\n",
    "    sum = 0\n",
    "    for j in range(W.rows):\n",
    "        item.append(\n",
    "            (((W.col(i).row(j))[0])**2)/W.rows\n",
    "        )\n",
    "    for j in range(W.rows):\n",
    "        sum += item[j]\n",
    "    sum = sqrt(sum)\n",
    "    M.append(sum.round(2))\n",
    "EW = Matrix(M)\n",
    "EW\n"
   ]
  },
  {
   "cell_type": "code",
   "execution_count": 37,
   "id": "f83641c9",
   "metadata": {},
   "outputs": [
    {
     "data": {
      "text/latex": [
       "$\\displaystyle \\left[\\begin{matrix}0.88 & 0.5\\\\-1.0 & 0.04\\\\0.69 & -0.71\\end{matrix}\\right]$"
      ],
      "text/plain": [
       "Matrix([\n",
       "[0.88,   0.5],\n",
       "[-1.0,  0.04],\n",
       "[0.69, -0.71]])"
      ]
     },
     "execution_count": 37,
     "metadata": {},
     "output_type": "execute_result"
    }
   ],
   "source": [
    "# calculer la corrélation entre les variables service, qualite et prix et les composantes w1 et w2\n",
    "\n",
    "# variables service, qualite et prix et les composantes w1 et w2\n",
    "GM = []\n",
    "for k in range(EW.rows): # pour parcourir w1 et w2\n",
    "    M = []\n",
    "    for i in range(X.cols): # parcourir toutes les variables\n",
    "        item = []\n",
    "        sum = 0\n",
    "        for j in range(X.rows): # parcourir tous les individus des variables et composants\n",
    "            item.append(\n",
    "                (((X.col(i).row(j))[0] - MX.col(0).row(i)[0]) * (W.col(k).row(j)[0] - MW.col(0).row(k)[0]))/X.rows\n",
    "            ) # sauvegarder la covariance (X,W)\n",
    "        for j in range(X.rows):\n",
    "            sum += item[j] # sommer les covariances pour une variable et une composante\n",
    "        sum = sum/(EX.col(0).row(i)[0]*EW.col(0).row(k)[0]) # diviser par la produit des écart type de la variables et composant courant \n",
    "        M.append(sum.round(2))\n",
    "    GM.append(M)\n",
    "COR_EW1 = Matrix(GM).transpose()\n",
    "COR_EW1\n"
   ]
  },
  {
   "cell_type": "markdown",
   "id": "14995a48",
   "metadata": {},
   "source": [
    "|Corrélation|W1|W2|\n",
    "|:---------:|:-:|:-:|\n",
    "|Service|0.88|0.5|\n",
    "|Qualité|-1|0.04|\n",
    "|Prix|0.69|-0.71|"
   ]
  },
  {
   "cell_type": "markdown",
   "id": "3e0439b2",
   "metadata": {},
   "source": [
    "b. Représentons les variables sur le cercle des corrélations dans le plan factoriel (1,2)"
   ]
  },
  {
   "cell_type": "code",
   "execution_count": 38,
   "id": "cdc8e8b8",
   "metadata": {},
   "outputs": [
    {
     "data": {
      "image/png": "[encoded data removed]",
      "text/plain": [
       "<Figure size 432x288 with 1 Axes>"
      ]
     },
     "metadata": {
      "needs_background": "light"
     },
     "output_type": "display_data"
    }
   ],
   "source": [
    "fig, axe = plt.subplots()\n",
    "if COR_EW1.cols == 2:\n",
    "    plt.axhline(y=0, color='black')\n",
    "    plt.axvline(x=0, color='black')\n",
    "    plt.xlim(-1.5, 1.5)\n",
    "    plt.ylim(-1.5, 1.5)\n",
    "    axe.quiver([int(d) for d in list(zeros(1, COR_EW1.rows))], [int(d) for d in list(zeros(1, COR_EW1.rows))],[float(d) for d in list(COR_EW1.col(0))], [float(d) for d in list(COR_EW1.col(1))], angles='xy', scale_units='xy', scale=1)\n",
    "    cercle = plt.Circle((0, 0), 1, fill=False)\n",
    "    axe.set_aspect(1)\n",
    "    axe.add_artist(cercle)\n",
    "elif COR_EW1.cols == 3:\n",
    "    z = list(zeros(100, 1))\n",
    "    ax = fig.add_subplot(projection='3d')\n",
    "    z = list(zeros(1, COR_EW1.cols))\n",
    "    ax.quiver(z, z, z, list(COR_EW1.col(0)),\n",
    "              list(COR_EW1.col(1)), list(COR_EW1.col(2)))\n",
    "    ax.set_xlim(-1.5, 1.5)\n",
    "    ax.set_ylim(-1.5, 1.5)\n",
    "    ax.set_zlim(-1.5, 1.5)\n",
    "\n"
   ]
  },
  {
   "cell_type": "markdown",
   "id": "c092b6c2",
   "metadata": {},
   "source": [
    "c. Interpretons les résultats\n"
   ]
  },
  {
   "cell_type": "markdown",
   "id": "dce96a36",
   "metadata": {},
   "source": [
    "* le fait que \"Qualité\" soit très proche de l'axe 1 indique qu'il est très bien représenté par cet axe, par contre le fait qu'il soit très éloigné de l'axe deux montre qu'il est très peu représenté par cet axe.\n",
    "* les varaibles Services et Prix ne sont assez bien représenté par les différents axes car sont equi-distant de ceux-ci."
   ]
  },
  {
   "cell_type": "markdown",
   "id": "d80449b4",
   "metadata": {},
   "source": [
    "[ACP Interpretation](https://www.soft-concept.com/surveymag/comment-lire-une-acp.html#:~:text=Elle%20prend%20des%20valeurs%20entre,pas%20%C3%AAtre%20effectu%C3%A9e%20avec%20confiance.)"
   ]
  },
  {
   "cell_type": "markdown",
   "id": "dcff4500",
   "metadata": {},
   "source": []
  }
 ],
 "metadata": {
  "kernelspec": {
   "display_name": "Python 3 (ipykernel)",
   "language": "python",
   "name": "python3"
  },
  "language_info": {
   "codemirror_mode": {
    "name": "ipython",
    "version": 3
   },
   "file_extension": ".py",
   "mimetype": "text/x-python",
   "name": "python",
   "nbconvert_exporter": "python",
   "pygments_lexer": "ipython3",
   "version": "3.9.2"
  }
 },
 "nbformat": 4,
 "nbformat_minor": 5
}
