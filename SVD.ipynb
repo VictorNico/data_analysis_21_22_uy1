{
 "cells": [
  {
   "cell_type": "markdown",
   "id": "1724986b-3775-4e58-9756-7bfa81790a87",
   "metadata": {},
   "source": [
    "# SVD"
   ]
  },
  {
   "cell_type": "markdown",
   "id": "9d109d44",
   "metadata": {},
   "source": [
    "___Soit donnée la matrice A suivante, Donner la décomposition en valeur sigulière de A.___"
   ]
  },
  {
   "cell_type": "markdown",
   "id": "e8c419c2",
   "metadata": {},
   "source": [
    "||k1|K2|K3|K4|k5|\n",
    "|:-:|:--------:|:-----:|:-----:|:--:|:-:|\n",
    "|I1|1|0|0|0|2|\n",
    "|I2|0|0|3|0|0|\n",
    "|I3|0|0|0|0|0|\n",
    "|I4|0|4|0|0|0|"
   ]
  },
  {
   "cell_type": "code",
   "execution_count": 10,
   "id": "e2c3712b",
   "metadata": {},
   "outputs": [],
   "source": [
    "from sympy import *"
   ]
  },
  {
   "cell_type": "code",
   "execution_count": 11,
   "id": "7120d9cd",
   "metadata": {},
   "outputs": [
    {
     "data": {
      "text/plain": [
       "' A = Matrix([[-0.00381053,  0.04122993, -0.07293653,  0.08100239],\\n [ 0.01512951, -0.01234475, -0.00711569,  0.00843445],\\n [-0.01917753, -0.04827641,  0.12181894, -0.12603823],\\n [ 0.02597561,  0.02129813, -0.048214,    0.01623163],\\n [-0.00155836,  0.04764791, -0.10984487,  0.13805547]])\\nA '"
      ]
     },
     "execution_count": 11,
     "metadata": {},
     "output_type": "execute_result"
    }
   ],
   "source": [
    "A = Matrix([[1, 0, 0, 0, 2], [0, 0, 3, 0, 0],\n",
    "            [0, 0, 0, 0, 0], [0, 4, 0, 0, 0]])\n",
    "A\n",
    "\"\"\" A = Matrix([[-0.00381053,  0.04122993, -0.07293653,  0.08100239],\n",
    " [ 0.01512951, -0.01234475, -0.00711569,  0.00843445],\n",
    " [-0.01917753, -0.04827641,  0.12181894, -0.12603823],\n",
    " [ 0.02597561,  0.02129813, -0.048214,    0.01623163],\n",
    " [-0.00155836,  0.04764791, -0.10984487,  0.13805547]])\n",
    "A \"\"\""
   ]
  },
  {
   "cell_type": "markdown",
   "id": "61f55b37",
   "metadata": {},
   "source": [
    "__Trouvons la matrice M tel que:__\n",
    "$$\n",
    "    M=A^t*A\n",
    "$$"
   ]
  },
  {
   "cell_type": "code",
   "execution_count": 12,
   "id": "9c16d620",
   "metadata": {},
   "outputs": [
    {
     "data": {
      "text/latex": [
       "$\\displaystyle \\left[\\begin{matrix}1 & 0 & 0 & 0 & 2\\\\0 & 16 & 0 & 0 & 0\\\\0 & 0 & 9 & 0 & 0\\\\0 & 0 & 0 & 0 & 0\\\\2 & 0 & 0 & 0 & 4\\end{matrix}\\right]$"
      ],
      "text/plain": [
       "Matrix([\n",
       "[1,  0, 0, 0, 2],\n",
       "[0, 16, 0, 0, 0],\n",
       "[0,  0, 9, 0, 0],\n",
       "[0,  0, 0, 0, 0],\n",
       "[2,  0, 0, 0, 4]])"
      ]
     },
     "execution_count": 12,
     "metadata": {},
     "output_type": "execute_result"
    }
   ],
   "source": [
    "M = A.transpose()*A\n",
    "M\n"
   ]
  },
  {
   "cell_type": "markdown",
   "id": "3eedb772",
   "metadata": {},
   "source": [
    "_calculons :_\n",
    "$$\n",
    "    M-\\lambda * I_5\n",
    "$$"
   ]
  },
  {
   "cell_type": "code",
   "execution_count": 13,
   "id": "4d4d740a",
   "metadata": {},
   "outputs": [
    {
     "data": {
      "text/latex": [
       "$\\displaystyle \\left[\\begin{matrix}1 - y & 0 & 0 & 0 & 2\\\\0 & 16 - y & 0 & 0 & 0\\\\0 & 0 & 9 - y & 0 & 0\\\\0 & 0 & 0 & - y & 0\\\\2 & 0 & 0 & 0 & 4 - y\\end{matrix}\\right]$"
      ],
      "text/plain": [
       "Matrix([\n",
       "[1 - y,      0,     0,  0,     2],\n",
       "[    0, 16 - y,     0,  0,     0],\n",
       "[    0,      0, 9 - y,  0,     0],\n",
       "[    0,      0,     0, -y,     0],\n",
       "[    2,      0,     0,  0, 4 - y]])"
      ]
     },
     "execution_count": 13,
     "metadata": {},
     "output_type": "execute_result"
    }
   ],
   "source": [
    "MI5 = M - Symbol(\"y\")*eye(M.rows)\n",
    "MI5\n"
   ]
  },
  {
   "cell_type": "markdown",
   "id": "29ddddfc",
   "metadata": {},
   "source": [
    "_Le polynôme caractéristique est donc donné par: _\n",
    "$$\n",
    "P(\\lambda) = det(MI5), y = \\lambda\n",
    "$$\n"
   ]
  },
  {
   "cell_type": "code",
   "execution_count": 14,
   "id": "39b83ff6",
   "metadata": {},
   "outputs": [
    {
     "data": {
      "text/latex": [
       "$\\displaystyle - y \\left(9 - y\\right) \\left(16 - y\\right) \\left(y^{2} - 5 y\\right)$"
      ],
      "text/plain": [
       "-y*(9 - y)*(16 - y)*(y**2 - 5*y)"
      ]
     },
     "execution_count": 14,
     "metadata": {},
     "output_type": "execute_result"
    }
   ],
   "source": [
    "P = MI5.det()\n",
    "P\n"
   ]
  },
  {
   "cell_type": "markdown",
   "id": "69ba23a9",
   "metadata": {},
   "source": [
    "_Les valeurs propres de la matrice M sont obténues en resolevant:_\n",
    "$$\n",
    "    P(\\lambda) = 0\n",
    "$$"
   ]
  },
  {
   "cell_type": "code",
   "execution_count": 15,
   "id": "ab2ad687",
   "metadata": {},
   "outputs": [
    {
     "data": {
      "text/plain": [
       "[0, 5, 9, 16]"
      ]
     },
     "execution_count": 15,
     "metadata": {},
     "output_type": "execute_result"
    }
   ],
   "source": [
    "y = solve(P, Symbol(\"y\"))\n",
    "y\n"
   ]
  },
  {
   "cell_type": "markdown",
   "id": "b23d11af",
   "metadata": {},
   "source": [
    "_les vecteurs propres rattachés à ses valeurs propres sont obténus en faisant_:\n",
    "$$\n",
    "MI5(\\lambda_i)\\vec V_i = \\vec O\n",
    "$$\n",
    "avec $\\vec V = (\\vec V_1, \\vec V_2, \\vec V_3, ..., \\vec V_K)$\n"
   ]
  },
  {
   "cell_type": "code",
   "execution_count": 16,
   "id": "a51136ef",
   "metadata": {},
   "outputs": [],
   "source": [
    "def Diff(li1, li2):\n",
    "    li_dif = [i for i in li1 + li2 if i not in li1 or i not in li2]\n",
    "    return li_dif"
   ]
  },
  {
   "cell_type": "code",
   "execution_count": 17,
   "id": "b29ab069",
   "metadata": {},
   "outputs": [
    {
     "name": "stdout",
     "output_type": "stream",
     "text": [
      "Pour y = 16 on a \n",
      "    MI5 = Matrix([[-15, 0, 0, 0, 2], [0, 0, 0, 0, 0], [0, 0, -7, 0, 0], [0, 0, 0, -16, 0], [2, 0, 0, 0, -12]])\n",
      "    MI5*Vi = Matrix([[-15*v0 + 2*v4], [0], [-7*v2], [-16*v3], [2*v0 - 12*v4]])\n",
      "    \n",
      "Après resolution du système linéaire,on obtient:\n",
      "    {v0: 0, v4: 0, v2: 0, v3: 0}\n",
      "    le vecteur rattaché sera donné par:\n",
      "    \n",
      "else[v1]\n",
      "[0, 1, 0, 0, 0]\n",
      "0\n",
      "1\n",
      "0\n",
      "1\n",
      "1\n",
      "1\n",
      "0\n",
      "1\n",
      "0\n",
      "0\n",
      "1\n",
      "0\n",
      "0\n",
      "1\n",
      "0\n",
      "[[0, 1, 0, 0, 0]]\n",
      "Pour y = 9 on a \n",
      "    MI5 = Matrix([[-8, 0, 0, 0, 2], [0, 7, 0, 0, 0], [0, 0, 0, 0, 0], [0, 0, 0, -9, 0], [2, 0, 0, 0, -5]])\n",
      "    MI5*Vi = Matrix([[-8*v0 + 2*v4], [7*v1], [0], [-9*v3], [2*v0 - 5*v4]])\n",
      "    \n",
      "Après resolution du système linéaire,on obtient:\n",
      "    {v0: 0, v4: 0, v1: 0, v3: 0}\n",
      "    le vecteur rattaché sera donné par:\n",
      "    \n",
      "else[v2]\n",
      "[0, 0, 1, 0, 0]\n",
      "0\n",
      "1\n",
      "0\n",
      "0\n",
      "1\n",
      "0\n",
      "1\n",
      "1\n",
      "1\n",
      "0\n",
      "1\n",
      "0\n",
      "0\n",
      "1\n",
      "0\n",
      "[[0, 1, 0, 0, 0], [0, 0, 1, 0, 0]]\n",
      "Pour y = 5 on a \n",
      "    MI5 = Matrix([[-4, 0, 0, 0, 2], [0, 11, 0, 0, 0], [0, 0, 4, 0, 0], [0, 0, 0, -5, 0], [2, 0, 0, 0, -1]])\n",
      "    MI5*Vi = Matrix([[-4*v0 + 2*v4], [11*v1], [4*v2], [-5*v3], [2*v0 - v4]])\n",
      "    \n",
      "Après resolution du système linéaire,on obtient:\n",
      "    {v0: v4/2, v1: 0, v2: 0, v3: 0}\n",
      "    le vecteur rattaché sera donné par:\n",
      "    \n",
      "else[v4]\n",
      "[1/2, 0, 0, 0, 1]\n",
      "1/2\n",
      "sqrt(5)/2\n",
      "sqrt(5)/5\n",
      "0\n",
      "sqrt(5)/2\n",
      "0\n",
      "0\n",
      "sqrt(5)/2\n",
      "0\n",
      "0\n",
      "sqrt(5)/2\n",
      "0\n",
      "1\n",
      "sqrt(5)/2\n",
      "2*sqrt(5)/5\n",
      "[[0, 1, 0, 0, 0], [0, 0, 1, 0, 0], [sqrt(5)/5, 0, 0, 0, 2*sqrt(5)/5]]\n",
      "Pour y = 0 on a \n",
      "    MI5 = Matrix([[1, 0, 0, 0, 2], [0, 16, 0, 0, 0], [0, 0, 9, 0, 0], [0, 0, 0, 0, 0], [2, 0, 0, 0, 4]])\n",
      "    MI5*Vi = Matrix([[v0 + 2*v4], [16*v1], [9*v2], [0], [2*v0 + 4*v4]])\n",
      "    \n",
      "Après resolution du système linéaire,on obtient:\n",
      "    {v0: -2*v4, v1: 0, v2: 0}\n",
      "    le vecteur rattaché sera donné par:\n",
      "    \n",
      "else[v3, v4]\n",
      "[0, 0, 0, 1, 0]\n",
      "0\n",
      "1\n",
      "0\n",
      "0\n",
      "1\n",
      "0\n",
      "0\n",
      "1\n",
      "0\n",
      "1\n",
      "1\n",
      "1\n",
      "0\n",
      "1\n",
      "0\n",
      "[-2, 0, 0, 0, 1]\n",
      "-2\n",
      "sqrt(5)\n",
      "-2*sqrt(5)/5\n",
      "0\n",
      "sqrt(5)\n",
      "0\n",
      "0\n",
      "sqrt(5)\n",
      "0\n",
      "0\n",
      "sqrt(5)\n",
      "0\n",
      "1\n",
      "sqrt(5)\n",
      "sqrt(5)/5\n",
      "[[0, 1, 0, 0, 0], [0, 0, 1, 0, 0], [sqrt(5)/5, 0, 0, 0, 2*sqrt(5)/5], [0, 0, 0, 1, 0], [-2*sqrt(5)/5, 0, 0, 0, sqrt(5)/5]]\n"
     ]
    },
    {
     "data": {
      "text/latex": [
       "$\\displaystyle \\left[\\begin{matrix}0 & 1 & 0 & 0 & 0\\\\0 & 0 & 1 & 0 & 0\\\\\\frac{\\sqrt{5}}{5} & 0 & 0 & 0 & \\frac{2 \\sqrt{5}}{5}\\\\0 & 0 & 0 & 1 & 0\\\\- \\frac{2 \\sqrt{5}}{5} & 0 & 0 & 0 & \\frac{\\sqrt{5}}{5}\\end{matrix}\\right]$"
      ],
      "text/plain": [
       "Matrix([\n",
       "[           0, 1, 0, 0,           0],\n",
       "[           0, 0, 1, 0,           0],\n",
       "[   sqrt(5)/5, 0, 0, 0, 2*sqrt(5)/5],\n",
       "[           0, 0, 0, 1,           0],\n",
       "[-2*sqrt(5)/5, 0, 0, 0,   sqrt(5)/5]])"
      ]
     },
     "execution_count": 17,
     "metadata": {},
     "output_type": "execute_result"
    }
   ],
   "source": [
    "# construire le vecteur v\n",
    "s = Symbol(\"y\")\n",
    "# creation des variables pour le systeme lineaire Hf*U = -Lf\n",
    "Vi = symbols(\"v:\"+str(MI5.rows))\n",
    "Vi = Matrix(Vi)\n",
    "VI = []\n",
    "V = []\n",
    "y = y[::-1]\n",
    "for elt in y:\n",
    "    S = [(s, elt)]\n",
    "    m = MI5.subs(S)\n",
    "    print(\"\"\"Pour y = {} on a \n",
    "    MI5 = {}\n",
    "    MI5*Vi = {}\n",
    "    \"\"\".format(elt, m, m*Vi))\n",
    "    VI.append(solve(m*Vi, Vi))\n",
    "    print(\"\"\"Après resolution du système linéaire,on obtient:\n",
    "    {}\n",
    "    le vecteur rattaché sera donné par:\n",
    "    \"\"\".format(VI[len(VI)-1]))\n",
    "    k = []\n",
    "    for key in VI[len(VI)-1]:\n",
    "        k.append(key)\n",
    "    if Diff(list(Vi), k) == 0:\n",
    "        S = []\n",
    "        print(\"if {}\".format(Diff(list(Vi), k)))\n",
    "\n",
    "    else:\n",
    "        print(\"else{}\".format(Diff(list(Vi), k)))\n",
    "        dif = Diff(list(Vi), k)\n",
    "        for elt1 in dif:\n",
    "            ss = []\n",
    "            for j in dif:\n",
    "                if j == elt1:\n",
    "                    ss.append((j, 1))\n",
    "                else:\n",
    "                    ss.append((j, 0))\n",
    "            for elt2 in k:\n",
    "                cpt = 0\n",
    "                for j in dif:\n",
    "                    if str(VI[len(VI)-1][elt2]).count(str(j)) == 1:\n",
    "                        cpt += 1\n",
    "                if cpt > 0:\n",
    "                    if str(VI[len(VI)-1][elt2]).count(str(elt1)) == 1:\n",
    "                        l = VI[len(VI)-1][elt2]\n",
    "                        l = l.subs(elt1, 1)\n",
    "                        ss.append((elt2, l))\n",
    "                    else:\n",
    "                        ss.append((elt2, 0))\n",
    "                else:\n",
    "                    ss.append((elt2, VI[len(VI)-1][elt2]))\n",
    "            o = list(Vi.subs(ss))\n",
    "            print(o)\n",
    "            o1 = []\n",
    "            for af in o:\n",
    "                print(af)\n",
    "                print(Matrix(list(Vi.subs(ss))).norm())\n",
    "                print(af/Matrix(list(Vi.subs(ss))).norm())\n",
    "                o1.append(af/Matrix(list(Vi.subs(ss))).norm())\n",
    "            V.append(list(o1))\n",
    "        print(V)\n",
    "\n",
    "\n",
    "V = Matrix(V)\n",
    "V\n"
   ]
  },
  {
   "cell_type": "markdown",
   "id": "8f6332e0",
   "metadata": {},
   "source": [
    "_determinons le vecteur_ $\\vec U = (\\vec U_1, \\vec U_2, \\vec U_3, ..., \\vec U_I)$\n",
    "_sachant que: _\n",
    "$$\n",
    "\\color{blue} {\\vec U_i = \\frac{1}{\\sqrt{\\lambda_i}}*A *\\vec V_i}\n",
    "$$\n",
    "$$\n",
    "\\color{blue} {\\sqrt{\\lambda_i} = ValeurSinguliereI}\n",
    "$$\n"
   ]
  },
  {
   "cell_type": "code",
   "execution_count": 18,
   "id": "d3c33ec6",
   "metadata": {},
   "outputs": [
    {
     "name": "stdout",
     "output_type": "stream",
     "text": [
      "0 : 16 et Matrix([[0, 1, 0, 0, 0]])\n",
      "Matrix([[0], [0], [0], [1]])\n",
      "1 : 9 et Matrix([[0, 0, 1, 0, 0]])\n",
      "Matrix([[0], [1], [0], [0]])\n",
      "2 : 5 et Matrix([[sqrt(5)/5, 0, 0, 0, 2*sqrt(5)/5]])\n",
      "Matrix([[1], [0], [0], [0]])\n",
      "3 : 0 et Matrix([[0, 0, 0, 1, 0]])\n",
      "Matrix([[0], [0], [0], [0]])\n"
     ]
    },
    {
     "data": {
      "text/latex": [
       "$\\displaystyle \\left[\\begin{matrix}0 & 0 & 1 & 0\\\\0 & 1 & 0 & 0\\\\0 & 0 & 0 & 0\\\\1 & 0 & 0 & 0\\end{matrix}\\right]$"
      ],
      "text/plain": [
       "Matrix([\n",
       "[0, 0, 1, 0],\n",
       "[0, 1, 0, 0],\n",
       "[0, 0, 0, 0],\n",
       "[1, 0, 0, 0]])"
      ]
     },
     "execution_count": 18,
     "metadata": {},
     "output_type": "execute_result"
    }
   ],
   "source": [
    "U = []\n",
    "for (index, val) in enumerate(y):\n",
    "    print(\"{} : {} et {}\".format(index, val, V.row(index)))\n",
    "    UI = (1/sqrt(val))*A*V.row(index).transpose() if val != 0 else (val) * \\\n",
    "        A*V.row(index).transpose()\n",
    "    print(UI)\n",
    "    U.append(list(UI))\n",
    "U = Matrix(U).transpose()   \n",
    "U\n"
   ]
  },
  {
   "cell_type": "markdown",
   "id": "b76bf7be",
   "metadata": {},
   "source": [
    "__construire la matrice__ $\\sigma$\n",
    "$$\n",
    "\\mathbf{\\sigma}\n",
    "=\n",
    "\\begin{bmatrix}\n",
    "\\partial_1 & 0 & 0 & \\cdots &\n",
    "0 \\\\\n",
    "0 & \\partial_2 & 0 & \\cdots &\n",
    "0 \\\\\n",
    "\\vdots & \\vdots & \\ddots & \\vdots & 0 \\\\\n",
    "0 & 0  & \\cdots & \\partial_k &\n",
    "0\n",
    "\\end{bmatrix}\n",
    "$$"
   ]
  },
  {
   "cell_type": "code",
   "execution_count": 19,
   "id": "88734782",
   "metadata": {},
   "outputs": [
    {
     "data": {
      "text/latex": [
       "$\\displaystyle \\left[\\begin{matrix}4 & 0 & 0 & 0 & 0\\\\0 & 3 & 0 & 0 & 0\\\\0 & 0 & \\sqrt{5} & 0 & 0\\\\0 & 0 & 0 & 0 & 0\\end{matrix}\\right]$"
      ],
      "text/plain": [
       "Matrix([\n",
       "[4, 0,       0, 0, 0],\n",
       "[0, 3,       0, 0, 0],\n",
       "[0, 0, sqrt(5), 0, 0],\n",
       "[0, 0,       0, 0, 0]])"
      ]
     },
     "execution_count": 19,
     "metadata": {},
     "output_type": "execute_result"
    }
   ],
   "source": [
    "sigma = []\n",
    "for (index, val) in enumerate(y):\n",
    "    s1 = []\n",
    "    for i in range(A.cols):\n",
    "        if i == index:\n",
    "            s1.append(sqrt(val))\n",
    "        else:\n",
    "            s1.append(0)\n",
    "    sigma.append(s1)\n",
    "\n",
    "sigma = Matrix(sigma)\n",
    "sigma\n"
   ]
  },
  {
   "cell_type": "code",
   "execution_count": 20,
   "id": "21f14ef2",
   "metadata": {},
   "outputs": [
    {
     "data": {
      "text/latex": [
       "$\\displaystyle \\left[\\begin{matrix}0 & 0 & \\sqrt{5} & 0 & 0\\\\0 & 3 & 0 & 0 & 0\\\\0 & 0 & 0 & 0 & 0\\\\4 & 0 & 0 & 0 & 0\\end{matrix}\\right]$"
      ],
      "text/plain": [
       "Matrix([\n",
       "[0, 0, sqrt(5), 0, 0],\n",
       "[0, 3,       0, 0, 0],\n",
       "[0, 0,       0, 0, 0],\n",
       "[4, 0,       0, 0, 0]])"
      ]
     },
     "execution_count": 20,
     "metadata": {},
     "output_type": "execute_result"
    }
   ],
   "source": [
    "US = (U*sigma)\n",
    "US\n"
   ]
  },
  {
   "cell_type": "code",
   "execution_count": 21,
   "id": "3f42d266",
   "metadata": {},
   "outputs": [
    {
     "data": {
      "text/latex": [
       "$\\displaystyle \\left[\\begin{matrix}1 & 0 & 0 & 0 & 2\\\\0 & 0 & 3 & 0 & 0\\\\0 & 0 & 0 & 0 & 0\\\\0 & 4 & 0 & 0 & 0\\end{matrix}\\right]$"
      ],
      "text/plain": [
       "Matrix([\n",
       "[1, 0, 0, 0, 2],\n",
       "[0, 0, 3, 0, 0],\n",
       "[0, 0, 0, 0, 0],\n",
       "[0, 4, 0, 0, 0]])"
      ]
     },
     "execution_count": 21,
     "metadata": {},
     "output_type": "execute_result"
    }
   ],
   "source": [
    "#simplify(V)\n",
    "USVT = US*V\n",
    "USVT\n"
   ]
  },
  {
   "cell_type": "markdown",
   "id": "36651ffd",
   "metadata": {},
   "source": []
  }
 ],
 "metadata": {
  "kernelspec": {
   "display_name": "Python 3 (ipykernel)",
   "language": "python",
   "name": "python3"
  },
  "language_info": {
   "codemirror_mode": {
    "name": "ipython",
    "version": 3
   },
   "file_extension": ".py",
   "mimetype": "text/x-python",
   "name": "python",
   "nbconvert_exporter": "python",
   "pygments_lexer": "ipython3",
   "version": "3.8.12"
  }
 },
 "nbformat": 4,
 "nbformat_minor": 5
}
