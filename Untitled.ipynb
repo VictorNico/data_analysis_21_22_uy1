{
 "cells": [
  {
   "cell_type": "code",
   "execution_count": 1,
   "id": "fc09d741-2bd9-465c-972e-54cc8e8d931f",
   "metadata": {},
   "outputs": [],
   "source": [
    "from sympy import *"
   ]
  },
  {
   "cell_type": "markdown",
   "id": "ada77be1-d8ad-4555-acf9-c226f3fdb980",
   "metadata": {},
   "source": [
    "# SVD"
   ]
  },
  {
   "cell_type": "markdown",
   "id": "351168ea-d9f0-4062-a0a9-c08b7fec5c2a",
   "metadata": {},
   "source": [
    "___Soit donnée la matrice A suivante, Donner la décomposition en valeur sigulière de A.___"
   ]
  },
  {
   "cell_type": "code",
   "execution_count": 40,
   "id": "b3e458fd-8901-4f7d-a5f0-d7fd30966f97",
   "metadata": {},
   "outputs": [
    {
     "data": {
      "text/latex": [
       "$\\displaystyle \\left[\\begin{matrix}1 & 0 & 0 & 0 & 2\\\\0 & 0 & 3 & 0 & 0\\\\0 & 0 & 0 & 0 & 0\\\\0 & 4 & 0 & 0 & 0\\end{matrix}\\right]$"
      ],
      "text/plain": [
       "Matrix([\n",
       "[1, 0, 0, 0, 2],\n",
       "[0, 0, 3, 0, 0],\n",
       "[0, 0, 0, 0, 0],\n",
       "[0, 4, 0, 0, 0]])"
      ]
     },
     "execution_count": 40,
     "metadata": {},
     "output_type": "execute_result"
    }
   ],
   "source": [
    "A = Matrix([[1,0,0,0,2],[0,0,3,0,0],[0,0,0,0,0],[0,4,0,0,0]])\n",
    "A"
   ]
  },
  {
   "cell_type": "markdown",
   "id": "f83f31f9-e4b9-4e45-bef4-4b945e02bc4b",
   "metadata": {},
   "source": [
    "__Trouvons la matrice M tel que:__\n",
    "$$\n",
    "    M=A^t*A\n",
    "$$"
   ]
  },
  {
   "cell_type": "code",
   "execution_count": 3,
   "id": "423c1c18-d365-4951-aa9d-4e5a41187e03",
   "metadata": {},
   "outputs": [
    {
     "data": {
      "text/latex": [
       "$\\displaystyle \\left[\\begin{matrix}1 & 0 & 0 & 0 & 2\\\\0 & 16 & 0 & 0 & 0\\\\0 & 0 & 9 & 0 & 0\\\\0 & 0 & 0 & 0 & 0\\\\2 & 0 & 0 & 0 & 4\\end{matrix}\\right]$"
      ],
      "text/plain": [
       "Matrix([\n",
       "[1,  0, 0, 0, 2],\n",
       "[0, 16, 0, 0, 0],\n",
       "[0,  0, 9, 0, 0],\n",
       "[0,  0, 0, 0, 0],\n",
       "[2,  0, 0, 0, 4]])"
      ]
     },
     "execution_count": 3,
     "metadata": {},
     "output_type": "execute_result"
    }
   ],
   "source": [
    "M = A.transpose()*A\n",
    "M"
   ]
  },
  {
   "cell_type": "markdown",
   "id": "5d987d64-1c15-45ed-b064-79ab5d5357c4",
   "metadata": {},
   "source": [
    "_calculons :_\n",
    "$$\n",
    "    M-\\partial * I_5\n",
    "$$"
   ]
  },
  {
   "cell_type": "code",
   "execution_count": 4,
   "id": "cb8f93a8-a6a1-4178-a27a-91d05fdb96d1",
   "metadata": {},
   "outputs": [
    {
     "data": {
      "text/latex": [
       "$\\displaystyle \\left[\\begin{matrix}1 - y & 0 & 0 & 0 & 2\\\\0 & 16 - y & 0 & 0 & 0\\\\0 & 0 & 9 - y & 0 & 0\\\\0 & 0 & 0 & - y & 0\\\\2 & 0 & 0 & 0 & 4 - y\\end{matrix}\\right]$"
      ],
      "text/plain": [
       "Matrix([\n",
       "[1 - y,      0,     0,  0,     2],\n",
       "[    0, 16 - y,     0,  0,     0],\n",
       "[    0,      0, 9 - y,  0,     0],\n",
       "[    0,      0,     0, -y,     0],\n",
       "[    2,      0,     0,  0, 4 - y]])"
      ]
     },
     "execution_count": 4,
     "metadata": {},
     "output_type": "execute_result"
    }
   ],
   "source": [
    "MI5 = M - Symbol(\"y\")*eye(M.rows)\n",
    "MI5"
   ]
  },
  {
   "cell_type": "markdown",
   "id": "7cd72603-d477-4299-b4be-fb30fcece99f",
   "metadata": {},
   "source": [
    "_Le polynôme caractéristique est donc donné par :_\n",
    "$$\n",
    "    P(\\partial) = det(MI5), y = \\partial\n",
    "$$"
   ]
  },
  {
   "cell_type": "code",
   "execution_count": 5,
   "id": "e9e156e3-d923-461f-95c4-8240c9817046",
   "metadata": {},
   "outputs": [
    {
     "data": {
      "text/latex": [
       "$\\displaystyle - y \\left(9 - y\\right) \\left(16 - y\\right) \\left(y^{2} - 5 y\\right)$"
      ],
      "text/plain": [
       "-y*(9 - y)*(16 - y)*(y**2 - 5*y)"
      ]
     },
     "execution_count": 5,
     "metadata": {},
     "output_type": "execute_result"
    }
   ],
   "source": [
    "P = MI5.det()\n",
    "P"
   ]
  },
  {
   "cell_type": "markdown",
   "id": "81c6d698-22bb-4b21-b6e0-54c4fb44a2d1",
   "metadata": {},
   "source": [
    "_Les valeurs propres de la matrice M sont obténues en resolevant:_\n",
    "$$\n",
    "    P(\\partial) = 0\n",
    "$$"
   ]
  },
  {
   "cell_type": "code",
   "execution_count": 6,
   "id": "3833411e-8f76-4c41-8e35-468e6e79a22a",
   "metadata": {},
   "outputs": [
    {
     "data": {
      "text/plain": [
       "[0, 5, 9, 16]"
      ]
     },
     "execution_count": 6,
     "metadata": {},
     "output_type": "execute_result"
    }
   ],
   "source": [
    "y = solve(P,Symbol(\"y\"))\n",
    "y"
   ]
  },
  {
   "cell_type": "markdown",
   "id": "25060fab-9524-477c-a6be-18dc4b9de6b3",
   "metadata": {},
   "source": [
    "_les vecteurs propres rattachés à ses valeurs propres sont obténus en faisant_:\n",
    "$$\n",
    "    MI5(y_i)\\vec V_i = \\vec O\n",
    "$$\n",
    "avec $\\vec V = (\\vec V_1, \\vec V_2, \\vec V_3, ..., \\vec V_K)$"
   ]
  },
  {
   "cell_type": "code",
   "execution_count": 7,
   "id": "01f12bc7-523e-44ba-8822-2021f336af8e",
   "metadata": {},
   "outputs": [],
   "source": [
    "def Diff(li1, li2):\n",
    "    li_dif = [i for i in li1 + li2 if i not in li1 or i not in li2]\n",
    "    return li_dif"
   ]
  },
  {
   "cell_type": "code",
   "execution_count": 20,
   "id": "d2ab4d43-5573-4684-8b6d-2b048c37f8d5",
   "metadata": {},
   "outputs": [
    {
     "name": "stdout",
     "output_type": "stream",
     "text": [
      "Pour y = 16 on a \n",
      "    MI5 = Matrix([[-15, 0, 0, 0, 2], [0, 0, 0, 0, 0], [0, 0, -7, 0, 0], [0, 0, 0, -16, 0], [2, 0, 0, 0, -12]])\n",
      "    MI5*Vi = Matrix([[-15*v0 + 2*v4], [0], [-7*v2], [-16*v3], [2*v0 - 12*v4]])\n",
      "    \n",
      "Après resolution du système linéaire,on obtient:\n",
      "    {v0: 0, v4: 0, v2: 0, v3: 0}\n",
      "    le vecteur rattaché sera donné par:\n",
      "    \n",
      "else[v1]\n",
      "[0, 1, 0, 0, 0]\n",
      "0\n",
      "1\n",
      "0\n",
      "1\n",
      "1\n",
      "1\n",
      "0\n",
      "1\n",
      "0\n",
      "0\n",
      "1\n",
      "0\n",
      "0\n",
      "1\n",
      "0\n",
      "[[0, 1, 0, 0, 0]]\n",
      "Pour y = 9 on a \n",
      "    MI5 = Matrix([[-8, 0, 0, 0, 2], [0, 7, 0, 0, 0], [0, 0, 0, 0, 0], [0, 0, 0, -9, 0], [2, 0, 0, 0, -5]])\n",
      "    MI5*Vi = Matrix([[-8*v0 + 2*v4], [7*v1], [0], [-9*v3], [2*v0 - 5*v4]])\n",
      "    \n",
      "Après resolution du système linéaire,on obtient:\n",
      "    {v0: 0, v4: 0, v1: 0, v3: 0}\n",
      "    le vecteur rattaché sera donné par:\n",
      "    \n",
      "else[v2]\n",
      "[0, 0, 1, 0, 0]\n",
      "0\n",
      "1\n",
      "0\n",
      "0\n",
      "1\n",
      "0\n",
      "1\n",
      "1\n",
      "1\n",
      "0\n",
      "1\n",
      "0\n",
      "0\n",
      "1\n",
      "0\n",
      "[[0, 1, 0, 0, 0], [0, 0, 1, 0, 0]]\n",
      "Pour y = 5 on a \n",
      "    MI5 = Matrix([[-4, 0, 0, 0, 2], [0, 11, 0, 0, 0], [0, 0, 4, 0, 0], [0, 0, 0, -5, 0], [2, 0, 0, 0, -1]])\n",
      "    MI5*Vi = Matrix([[-4*v0 + 2*v4], [11*v1], [4*v2], [-5*v3], [2*v0 - v4]])\n",
      "    \n",
      "Après resolution du système linéaire,on obtient:\n",
      "    {v0: v4/2, v1: 0, v2: 0, v3: 0}\n",
      "    le vecteur rattaché sera donné par:\n",
      "    \n",
      "else[v4]\n",
      "[1/2, 0, 0, 0, 1]\n",
      "1/2\n",
      "sqrt(5)/2\n",
      "sqrt(5)/5\n",
      "0\n",
      "sqrt(5)/2\n",
      "0\n",
      "0\n",
      "sqrt(5)/2\n",
      "0\n",
      "0\n",
      "sqrt(5)/2\n",
      "0\n",
      "1\n",
      "sqrt(5)/2\n",
      "2*sqrt(5)/5\n",
      "[[0, 1, 0, 0, 0], [0, 0, 1, 0, 0], [sqrt(5)/5, 0, 0, 0, 2*sqrt(5)/5]]\n",
      "Pour y = 0 on a \n",
      "    MI5 = Matrix([[1, 0, 0, 0, 2], [0, 16, 0, 0, 0], [0, 0, 9, 0, 0], [0, 0, 0, 0, 0], [2, 0, 0, 0, 4]])\n",
      "    MI5*Vi = Matrix([[v0 + 2*v4], [16*v1], [9*v2], [0], [2*v0 + 4*v4]])\n",
      "    \n",
      "Après resolution du système linéaire,on obtient:\n",
      "    {v0: -2*v4, v1: 0, v2: 0}\n",
      "    le vecteur rattaché sera donné par:\n",
      "    \n",
      "else[v3, v4]\n",
      "[0, 0, 0, 1, 0]\n",
      "0\n",
      "1\n",
      "0\n",
      "0\n",
      "1\n",
      "0\n",
      "0\n",
      "1\n",
      "0\n",
      "1\n",
      "1\n",
      "1\n",
      "0\n",
      "1\n",
      "0\n",
      "[-2, 0, 0, 0, 1]\n",
      "-2\n",
      "sqrt(5)\n",
      "-2*sqrt(5)/5\n",
      "0\n",
      "sqrt(5)\n",
      "0\n",
      "0\n",
      "sqrt(5)\n",
      "0\n",
      "0\n",
      "sqrt(5)\n",
      "0\n",
      "1\n",
      "sqrt(5)\n",
      "sqrt(5)/5\n",
      "[[0, 1, 0, 0, 0], [0, 0, 1, 0, 0], [sqrt(5)/5, 0, 0, 0, 2*sqrt(5)/5], [0, 0, 0, 1, 0], [-2*sqrt(5)/5, 0, 0, 0, sqrt(5)/5]]\n"
     ]
    },
    {
     "data": {
      "text/latex": [
       "$\\displaystyle \\left[\\begin{matrix}0 & 1 & 0 & 0 & 0\\\\0 & 0 & 1 & 0 & 0\\\\\\frac{\\sqrt{5}}{5} & 0 & 0 & 0 & \\frac{2 \\sqrt{5}}{5}\\\\0 & 0 & 0 & 1 & 0\\\\- \\frac{2 \\sqrt{5}}{5} & 0 & 0 & 0 & \\frac{\\sqrt{5}}{5}\\end{matrix}\\right]$"
      ],
      "text/plain": [
       "Matrix([\n",
       "[           0, 1, 0, 0,           0],\n",
       "[           0, 0, 1, 0,           0],\n",
       "[   sqrt(5)/5, 0, 0, 0, 2*sqrt(5)/5],\n",
       "[           0, 0, 0, 1,           0],\n",
       "[-2*sqrt(5)/5, 0, 0, 0,   sqrt(5)/5]])"
      ]
     },
     "execution_count": 20,
     "metadata": {},
     "output_type": "execute_result"
    }
   ],
   "source": [
    "# construire le vecteur v\n",
    "s = Symbol(\"y\")\n",
    "Vi = symbols(\"v:\"+str(MI5.rows)) #creation des variables pour le systeme lineaire Hf*U = -Lf\n",
    "Vi = Matrix(Vi)\n",
    "VI = []\n",
    "V = []\n",
    "y = y[::-1]\n",
    "for elt in y:\n",
    "    S = [(s,elt)]\n",
    "    m = MI5.subs(S)\n",
    "    print(\"\"\"Pour y = {} on a \n",
    "    MI5 = {}\n",
    "    MI5*Vi = {}\n",
    "    \"\"\".format(elt,m,m*Vi))\n",
    "    VI.append(solve(m*Vi,Vi))\n",
    "    print(\"\"\"Après resolution du système linéaire,on obtient:\n",
    "    {}\n",
    "    le vecteur rattaché sera donné par:\n",
    "    \"\"\".format(VI[len(VI)-1]))\n",
    "    k = []\n",
    "    for key in VI[len(VI)-1]:\n",
    "            k.append(key)\n",
    "    if Diff(list(Vi),k) == 0:\n",
    "        S = []\n",
    "        print(\"if {}\".format(Diff(list(Vi),k)))\n",
    "        \n",
    "    else:\n",
    "        print(\"else{}\".format(Diff(list(Vi),k)))\n",
    "        dif = Diff(list(Vi),k)\n",
    "        for elt1 in dif:\n",
    "            ss = []\n",
    "            for j in dif:\n",
    "                if j == elt1:\n",
    "                    ss.append((j,1))\n",
    "                else:\n",
    "                    ss.append((j,0))\n",
    "            for elt2 in k:\n",
    "                cpt=0\n",
    "                for j in dif:\n",
    "                    if str(VI[len(VI)-1][elt2]).count(str(j)) == 1:\n",
    "                        cpt+=1\n",
    "                if cpt>0 :\n",
    "                    if str(VI[len(VI)-1][elt2]).count(str(elt1)) == 1:\n",
    "                        l = VI[len(VI)-1][elt2]\n",
    "                        l = l.subs(elt1,1)\n",
    "                        ss.append((elt2,l))\n",
    "                    else:\n",
    "                        ss.append((elt2,0))\n",
    "                else:\n",
    "                    ss.append((elt2,VI[len(VI)-1][elt2]))\n",
    "            o = list(Vi.subs(ss))\n",
    "            print(o)\n",
    "            o1 = []\n",
    "            for af in o:\n",
    "                print(af)\n",
    "                print(Matrix(list(Vi.subs(ss))).norm())\n",
    "                print(af/Matrix(list(Vi.subs(ss))).norm())\n",
    "                o1.append(af/Matrix(list(Vi.subs(ss))).norm())\n",
    "            V.append(list(o1))\n",
    "        print(V)\n",
    "        \n",
    "    \n",
    "V = Matrix(V)\n",
    "V"
   ]
  },
  {
   "cell_type": "markdown",
   "id": "c8d944b7-00d8-4859-8e94-49bd1cc3ac42",
   "metadata": {},
   "source": [
    "_determinons le vecteur_ $\\vec U = (\\vec U_1, \\vec U_2, \\vec U_3, ..., \\vec U_I)$\n",
    "_sachant que :_\n",
    "$$\n",
    "    \\color{blue} {\\vec U_i = \\frac{1}{\\sqrt{\\partial_i}}*A*\\vec V_i}\n",
    "$$\n",
    "$$\n",
    "    \\color{blue} {\\sqrt{\\partial_i} = ValeurSinguliereI}\n",
    "$$"
   ]
  },
  {
   "cell_type": "code",
   "execution_count": 1,
   "id": "6d610d6d-3ee5-4fec-9d3d-d70ce42d9c72",
   "metadata": {},
   "outputs": [
    {
     "ename": "NameError",
     "evalue": "name 'y' is not defined",
     "output_type": "error",
     "traceback": [
      "\u001b[0;31m---------------------------------------------------------------------------\u001b[0m",
      "\u001b[0;31mNameError\u001b[0m                                 Traceback (most recent call last)",
      "\u001b[0;32m/var/folders/54/9zy0h1lx30352ghjszc5g2h80000gn/T/ipykernel_81421/2271714363.py\u001b[0m in \u001b[0;36m<module>\u001b[0;34m\u001b[0m\n\u001b[0;32m----> 1\u001b[0;31m \u001b[0mprint\u001b[0m\u001b[0;34m(\u001b[0m\u001b[0my\u001b[0m\u001b[0;34m)\u001b[0m\u001b[0;34m\u001b[0m\u001b[0;34m\u001b[0m\u001b[0m\n\u001b[0m\u001b[1;32m      2\u001b[0m \u001b[0mprint\u001b[0m\u001b[0;34m(\u001b[0m\u001b[0mV\u001b[0m\u001b[0;34m.\u001b[0m\u001b[0mrowspace\u001b[0m\u001b[0;34m(\u001b[0m\u001b[0;34m)\u001b[0m\u001b[0;34m[\u001b[0m\u001b[0;36m0\u001b[0m\u001b[0;34m]\u001b[0m\u001b[0;34m)\u001b[0m\u001b[0;34m\u001b[0m\u001b[0;34m\u001b[0m\u001b[0m\n\u001b[1;32m      3\u001b[0m \u001b[0;34m\u001b[0m\u001b[0m\n\u001b[1;32m      4\u001b[0m \u001b[0mprint\u001b[0m\u001b[0;34m(\u001b[0m\u001b[0mV\u001b[0m\u001b[0;34m[\u001b[0m\u001b[0;36m0\u001b[0m\u001b[0;34m]\u001b[0m\u001b[0;34m)\u001b[0m\u001b[0;34m\u001b[0m\u001b[0;34m\u001b[0m\u001b[0m\n\u001b[1;32m      5\u001b[0m \u001b[0mU\u001b[0m \u001b[0;34m=\u001b[0m \u001b[0;34m[\u001b[0m\u001b[0;34m]\u001b[0m\u001b[0;34m\u001b[0m\u001b[0;34m\u001b[0m\u001b[0m\n",
      "\u001b[0;31mNameError\u001b[0m: name 'y' is not defined"
     ]
    }
   ],
   "source": [
    "print(y)\n",
    "print(V.rowspace()[0])\n",
    "\n",
    "print(V[0])\n",
    "U = []\n",
    "for (index, val) in enumerate(y):\n",
    "    print(\"{} : {} et {}\".format(index,val,V[index]))\n",
    "    UI = (1/sqrt(val))*A*V.col(index) if val != 0 else (val)*A*V.col(index)\n",
    "    print(UI)\n",
    "    U.append(list(UI))\n",
    "U = Matrix(U).transpose()   \n",
    "U\n"
   ]
  },
  {
   "cell_type": "markdown",
   "id": "2ad81465-0446-4501-ab20-783a33eb2d17",
   "metadata": {},
   "source": [
    "__construire la matrice__ $\\sigma$\n",
    "$$\n",
    "\\mathbf{\\sigma}\n",
    "=\n",
    "\\begin{bmatrix}\n",
    "\\partial_1 & 0 & 0 & \\cdots &\n",
    "0 \\\\\n",
    "0 & \\partial_2 & 0 & \\cdots &\n",
    "0 \\\\\n",
    "\\vdots & \\vdots & \\ddots & \\vdots & 0 \\\\\n",
    "0 & 0  & \\cdots & \\partial_k &\n",
    "0\n",
    "\\end{bmatrix}\n",
    "$$"
   ]
  },
  {
   "cell_type": "code",
   "execution_count": 25,
   "id": "132014c2-995e-47b5-a960-e6ef289c785d",
   "metadata": {},
   "outputs": [
    {
     "data": {
      "text/latex": [
       "$\\displaystyle \\left[\\begin{matrix}4 & 0 & 0 & 0 & 0\\\\0 & 3 & 0 & 0 & 0\\\\0 & 0 & \\sqrt{5} & 0 & 0\\\\0 & 0 & 0 & 0 & 0\\end{matrix}\\right]$"
      ],
      "text/plain": [
       "Matrix([\n",
       "[4, 0,       0, 0, 0],\n",
       "[0, 3,       0, 0, 0],\n",
       "[0, 0, sqrt(5), 0, 0],\n",
       "[0, 0,       0, 0, 0]])"
      ]
     },
     "execution_count": 25,
     "metadata": {},
     "output_type": "execute_result"
    }
   ],
   "source": [
    "sigma = []\n",
    "for (index, val) in enumerate(y):\n",
    "    s1 = []\n",
    "    for i in range(A.cols):\n",
    "        if i == index :\n",
    "            s1.append(sqrt(val))\n",
    "        else:\n",
    "            s1.append(0)\n",
    "    sigma.append(s1)\n",
    "\n",
    "sigma = Matrix(sigma)\n",
    "sigma\n",
    "            "
   ]
  },
  {
   "cell_type": "markdown",
   "id": "367a378f-e03d-4832-9840-510045b41cbe",
   "metadata": {},
   "source": [
    "__verifions si nous retrouvons la matrice initiale en faisant__\n",
    "$$\n",
    "    \\color{blue} {A = \\vec U*\\sigma*\\vec V^T}\n",
    "$$"
   ]
  },
  {
   "cell_type": "code",
   "execution_count": null,
   "id": "8e0b19a0-91f6-454d-a60e-924368f380a5",
   "metadata": {},
   "outputs": [],
   "source": [
    "US = (U*sigma)\n",
    "US"
   ]
  },
  {
   "cell_type": "code",
   "execution_count": null,
   "id": "c2ae25ef-dc81-4afc-aa83-9e7db256f03f",
   "metadata": {},
   "outputs": [],
   "source": [
    "#simplify(V)\n",
    "USVT = US*V\n",
    "USVT"
   ]
  },
  {
   "cell_type": "code",
   "execution_count": null,
   "id": "8b8a589e-57ed-4b4f-b13b-b25f72a4e9e6",
   "metadata": {},
   "outputs": [],
   "source": []
  },
  {
   "cell_type": "code",
   "execution_count": null,
   "id": "36a767e9-de88-4abb-971e-c273eb002f91",
   "metadata": {},
   "outputs": [],
   "source": []
  }
 ],
 "metadata": {
  "kernelspec": {
   "display_name": "Python 3 (ipykernel)",
   "language": "python",
   "name": "python3"
  },
  "language_info": {
   "codemirror_mode": {
    "name": "ipython",
    "version": 3
   },
   "file_extension": ".py",
   "mimetype": "text/x-python",
   "name": "python",
   "nbconvert_exporter": "python",
   "pygments_lexer": "ipython3",
   "version": "3.9.2"
  }
 },
 "nbformat": 4,
 "nbformat_minor": 5
}
